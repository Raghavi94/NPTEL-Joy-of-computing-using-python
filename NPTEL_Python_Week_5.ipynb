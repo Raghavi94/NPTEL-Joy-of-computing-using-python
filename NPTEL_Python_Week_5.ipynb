{
  "nbformat": 4,
  "nbformat_minor": 0,
  "metadata": {
    "colab": {
      "name": "NPTEL_Python_Week 5.ipynb",
      "provenance": [],
      "collapsed_sections": [],
      "authorship_tag": "ABX9TyNIGoJSpW3u5ZuMW+blaWwp",
      "include_colab_link": true
    },
    "kernelspec": {
      "name": "python3",
      "display_name": "Python 3"
    }
  },
  "cells": [
    {
      "cell_type": "markdown",
      "metadata": {
        "id": "view-in-github",
        "colab_type": "text"
      },
      "source": [
        "<a href=\"https://colab.research.google.com/github/Raghavi94/NPTEL-Joy-of-computing-using-python/blob/main/NPTEL_Python_Week_5.ipynb\" target=\"_parent\"><img src=\"https://colab.research.google.com/assets/colab-badge.svg\" alt=\"Open In Colab\"/></a>"
      ]
    },
    {
      "cell_type": "markdown",
      "metadata": {
        "id": "RVHxNSQoOkkF"
      },
      "source": [
        "**Programming Assignment 1:**\r\n",
        "\r\n",
        "PROBLEM STATEMENT:\r\n",
        "\r\n",
        "Given an integer input 'n', print a number triangle of n lines as shown in the example.\r\n",
        "\r\n",
        "Input Format\r\n",
        "\r\n",
        "The input contains a number n (n < 10)\r\n",
        "\r\n",
        "Output Format\r\n",
        "\r\n",
        "Print n lines corresponding to the number triangle\r\n",
        "\r\n",
        "Example:\r\n",
        "\r\n",
        "Input\r\n",
        "\r\n",
        "5\r\n",
        "\r\n",
        "Output\r\n",
        "\r\n",
        "1\r\n",
        "22\r\n",
        "333\r\n",
        "4444\r\n",
        "55555"
      ]
    },
    {
      "cell_type": "code",
      "metadata": {
        "colab": {
          "base_uri": "https://localhost:8080/"
        },
        "id": "tP9Gk1wVO1UE",
        "outputId": "3f72396a-968c-461d-d969-4638c9201a24"
      },
      "source": [
        "n=int(input())\r\n",
        "for i in range(1,n+1):\r\n",
        "  for j in range(1,i+1):\r\n",
        "    print(i,end=\"\")\r\n",
        "  if(i==n):\r\n",
        "    continue\r\n",
        "  else:\r\n",
        "    print()"
      ],
      "execution_count": null,
      "outputs": [
        {
          "output_type": "stream",
          "text": [
            "6\n",
            "1\n",
            "22\n",
            "333\n",
            "4444\n",
            "55555\n",
            "666666"
          ],
          "name": "stdout"
        }
      ]
    },
    {
      "cell_type": "markdown",
      "metadata": {
        "id": "vC1ANlJxSGYx"
      },
      "source": [
        "\r\n",
        "**Programming Assignment 2:**\r\n",
        "\r\n",
        "PROBLEM STATEMENT:\r\n",
        "\r\n",
        "Bubble Sort\r\n",
        "You are required to sort a given list of integers in ascending order using Bubble sort algorithm. Determine the number of swaps that occur in the process.\r\n",
        "\r\n",
        "Input Format\r\n",
        "\r\n",
        "A single line of the input contains space separated integers\r\n",
        "\r\n",
        "Output Format\r\n",
        "\r\n",
        "Print an integer value corresponding to the number of swaps. (No newline after the output)\r\n",
        "\r\n",
        "Example\r\n",
        "\r\n",
        "Input\r\n",
        "\r\n",
        "3 4 2 1 5\r\n",
        "\r\n",
        "Output\r\n",
        "\r\n",
        "5"
      ]
    },
    {
      "cell_type": "code",
      "metadata": {
        "colab": {
          "base_uri": "https://localhost:8080/"
        },
        "id": "BtsX7ZI3SXVf",
        "outputId": "3a608f6d-736b-4564-941f-4f9864b78212"
      },
      "source": [
        "def bubble_sort(arr):\r\n",
        "  ans=0\r\n",
        "  n=len(arr)\r\n",
        "  for i in range(n):\r\n",
        "    for j in range(0,n-i-1):\r\n",
        "      if arr[j]>arr[j+1]:\r\n",
        "        arr[j],arr[j+1]=arr[j+1],arr[j]\r\n",
        "        ans=ans+1\r\n",
        "  return(ans)      \r\n",
        "\r\n",
        "a=[int(i) for i in input().split()]\r\n",
        "ans=0\r\n",
        "ans=bubble_sort(a)\r\n",
        "print(ans,end=\" \")"
      ],
      "execution_count": null,
      "outputs": [
        {
          "output_type": "stream",
          "text": [
            "2 1 1 3\n",
            "2 "
          ],
          "name": "stdout"
        }
      ]
    },
    {
      "cell_type": "markdown",
      "metadata": {
        "id": "JZhBNVXBnvrf"
      },
      "source": [
        "**Programming Assignment 3:**\r\n",
        "\r\n",
        "PROBLEM STATEMENT:\r\n",
        "\r\n",
        "Maximal and Minimal Element\r\n",
        "Given a list of integers and a value k, print the sum of kth maximum element and kth minimum element in the list.\r\n",
        "\r\n",
        "Input Format\r\n",
        "First line of the input contains space separated integers\r\n",
        "Second line of the input contains a number k\r\n",
        "\r\n",
        "Output Format\r\n",
        "Print an integer value corresponding to the sum of kth maximum element and kth minimum element. (No newline after the output)\r\n",
        "\r\n",
        "Example:\r\n",
        "Input:\r\n",
        "1 3 4 1 2 5 7 3 6 8 9 3\r\n",
        "6\r\n",
        "\r\n",
        "Output:\r\n",
        "10\r\n",
        "\r\n",
        "Explanation\r\n",
        "The 6th maximal element is 4 and the 6th minimal element is 6. Their sum is 10\r\n"
      ]
    },
    {
      "cell_type": "code",
      "metadata": {
        "colab": {
          "base_uri": "https://localhost:8080/"
        },
        "id": "_CCQJcYun_ua",
        "outputId": "a458946e-b356-4edd-f0aa-1c4c912e2445"
      },
      "source": [
        "a=list(map(int,input().split()))\r\n",
        "k=int(input())\r\n",
        "c=[]\r\n",
        "for i in a:\r\n",
        "  if i not in c:\r\n",
        "    c.append(i)\r\n",
        "c.sort()\r\n",
        "if(len(c)>=k):\r\n",
        "  s1=c[k-1]\r\n",
        "  s2=c[len(c)-k]\r\n",
        "  s=s1+s2\r\n",
        "  print(s,end=\"\")"
      ],
      "execution_count": 1,
      "outputs": [
        {
          "output_type": "stream",
          "text": [
            "1 2 4 3 2 1\n",
            "3\n",
            "5"
          ],
          "name": "stdout"
        }
      ]
    }
  ]
}