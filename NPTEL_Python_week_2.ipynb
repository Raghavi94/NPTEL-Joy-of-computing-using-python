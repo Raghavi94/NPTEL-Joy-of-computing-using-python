{
  "nbformat": 4,
  "nbformat_minor": 0,
  "metadata": {
    "colab": {
      "name": "NPTEL Python week 2.ipynb",
      "provenance": [],
      "collapsed_sections": [],
      "authorship_tag": "ABX9TyO78v/YTV3n7Ts0CUzYBM57",
      "include_colab_link": true
    },
    "kernelspec": {
      "name": "python3",
      "display_name": "Python 3"
    }
  },
  "cells": [
    {
      "cell_type": "markdown",
      "metadata": {
        "id": "view-in-github",
        "colab_type": "text"
      },
      "source": [
        "<a href=\"https://colab.research.google.com/github/Raghavi94/NPTEL-Joy-of-computing-using-python/blob/main/NPTEL_Python_week_2.ipynb\" target=\"_parent\"><img src=\"https://colab.research.google.com/assets/colab-badge.svg\" alt=\"Open In Colab\"/></a>"
      ]
    },
    {
      "cell_type": "code",
      "metadata": {
        "id": "2k0eQ_lf1kMM"
      },
      "source": [
        ""
      ],
      "execution_count": null,
      "outputs": []
    },
    {
      "cell_type": "markdown",
      "metadata": {
        "id": "UCxVyPOm1qqd"
      },
      "source": [
        "**Programming assignment 1 solution**\r\n",
        "\r\n",
        "1)Problem statement:\r\n",
        "Take a integer as input and output the same."
      ]
    },
    {
      "cell_type": "code",
      "metadata": {
        "colab": {
          "base_uri": "https://localhost:8080/"
        },
        "id": "ZXMR_95j1_0r",
        "outputId": "0814dd5a-0129-426c-c159-6fab7cf6592c"
      },
      "source": [
        "n=int(input())\r\n",
        "print(n,end=\" \")"
      ],
      "execution_count": 2,
      "outputs": [
        {
          "output_type": "stream",
          "text": [
            "5\n",
            "5 "
          ],
          "name": "stdout"
        }
      ]
    },
    {
      "cell_type": "markdown",
      "metadata": {
        "id": "djEttY0N2MQi"
      },
      "source": [
        "**Programming assignment 2 solution**\r\n",
        "\r\n",
        "2)Problem statement:Take 2 integers as input and display their product as output.\r\n"
      ]
    },
    {
      "cell_type": "code",
      "metadata": {
        "colab": {
          "base_uri": "https://localhost:8080/"
        },
        "id": "f1G3XDam2fkX",
        "outputId": "d1ffdb49-e3de-46f2-c44a-2543d6ef06fc"
      },
      "source": [
        "n,m=input().split()\r\n",
        "n=int(n)\r\n",
        "m=int(m)\r\n",
        "print(n*m,end=\" \")"
      ],
      "execution_count": 3,
      "outputs": [
        {
          "output_type": "stream",
          "text": [
            "2 4\n",
            "8 "
          ],
          "name": "stdout"
        }
      ]
    },
    {
      "cell_type": "markdown",
      "metadata": {
        "id": "NH3hZG5G2rLm"
      },
      "source": [
        "**Programming assignment 3 solution**\r\n",
        "\r\n",
        "3)Problem statement:Take 2 integers as input and display maximum of of it."
      ]
    },
    {
      "cell_type": "code",
      "metadata": {
        "colab": {
          "base_uri": "https://localhost:8080/"
        },
        "id": "Ud22FKH9234g",
        "outputId": "1aefb47c-030d-499d-8246-fd4bd18742a4"
      },
      "source": [
        "n,m=input().split()\r\n",
        "n=int(n)\r\n",
        "m=int(m)\r\n",
        "print(max(n,m),end=\" \")"
      ],
      "execution_count": 4,
      "outputs": [
        {
          "output_type": "stream",
          "text": [
            "2 4\n",
            "4 "
          ],
          "name": "stdout"
        }
      ]
    }
  ]
}