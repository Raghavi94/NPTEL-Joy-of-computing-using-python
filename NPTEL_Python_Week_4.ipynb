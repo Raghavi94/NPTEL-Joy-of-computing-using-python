{
  "nbformat": 4,
  "nbformat_minor": 0,
  "metadata": {
    "colab": {
      "name": "NPTEL_Python_Week 4.ipynb",
      "provenance": [],
      "collapsed_sections": [],
      "authorship_tag": "ABX9TyPA0jW0/E4mSSAvbNB227hL",
      "include_colab_link": true
    },
    "kernelspec": {
      "name": "python3",
      "display_name": "Python 3"
    }
  },
  "cells": [
    {
      "cell_type": "markdown",
      "metadata": {
        "id": "view-in-github",
        "colab_type": "text"
      },
      "source": [
        "<a href=\"https://colab.research.google.com/github/Raghavi94/NPTEL-Joy-of-computing-using-python/blob/main/NPTEL_Python_Week_4.ipynb\" target=\"_parent\"><img src=\"https://colab.research.google.com/assets/colab-badge.svg\" alt=\"Open In Colab\"/></a>"
      ]
    },
    {
      "cell_type": "markdown",
      "metadata": {
        "id": "hgxa2YK1wyo9"
      },
      "source": [
        "**Nptel Week 4 Programming Assignment Solution**\r\n",
        "\r\n",
        "Programming Assignment 3 :\r\n",
        "\r\n",
        "PROBLEM STATEMENT:\r\n",
        "\r\n",
        "Given n – indicating the number of rows, print a right angle triangle of squares of numbers with n rows.\r\n",
        "\r\n",
        "Example: \r\n",
        "\r\n",
        "n = 3\r\n",
        "\r\n",
        "Right angle triangle is\r\n",
        "\r\n",
        "1 \r\n",
        "\r\n",
        "4 9 \r\n",
        "\r\n",
        "16 25 36 \r\n",
        "\r\n",
        "\r\n",
        "Input Format: \r\n",
        "\r\n",
        "The first line contains n number of rows\r\n",
        "\r\n",
        "\r\n",
        "Output Format: \r\n",
        "\r\n",
        "Print the right-angle triangle of n rows\r\n",
        "\r\n",
        "Example: \r\n",
        "\r\n",
        "Input: \r\n",
        "\r\n",
        "4\r\n",
        "\r\n",
        "Output: \r\n",
        "\r\n",
        "1 \r\n",
        "\r\n",
        "4 9 \r\n",
        "\r\n",
        "16 25 36 \r\n",
        "\r\n",
        "49 64 81 100"
      ]
    },
    {
      "cell_type": "code",
      "metadata": {
        "colab": {
          "base_uri": "https://localhost:8080/"
        },
        "id": "F249q_qGwpJW",
        "outputId": "4dc5e052-f4c6-466f-ad04-cd2f56d5b020"
      },
      "source": [
        "n=int(input())\r\n",
        "k=0\r\n",
        "for i in range(1,n+1):\r\n",
        "  for j in range(1,i+1):\r\n",
        "    k=k+1\r\n",
        "    ans=k*k\r\n",
        "    if(i==j):\r\n",
        "      print(ans,end=\"\")\r\n",
        "    else:\r\n",
        "      print(ans,\"\",end=\"\")\r\n",
        "  if(i!=n):\r\n",
        "    print(\" \")\r\n",
        " "
      ],
      "execution_count": null,
      "outputs": [
        {
          "output_type": "stream",
          "text": [
            "5\n",
            "1 \n",
            "4 9 \n",
            "16 25 36 \n",
            "49 64 81 100 \n",
            "121 144 169 196 225"
          ],
          "name": "stdout"
        }
      ]
    },
    {
      "cell_type": "markdown",
      "metadata": {
        "id": "lq-GgV-1zMsM"
      },
      "source": [
        "Programming Assignment 1:\r\n",
        "\r\n",
        "PROBLEM STATEMENT:\r\n",
        "\r\n",
        "Two friends Suresh and Ramesh have m red candies and n green candies respectively. They want to arrange the candies in such a way that each row contains equal number of candies and also each row should have only red candies or green candies. Help them to arrange the candies in such a way that there are maximum number of candies in each row.\r\n",
        "\r\n",
        "Input Format: \r\n",
        "\r\n",
        "The first line contains m number of red candies Suresh has\r\n",
        "\r\n",
        "The second line contains n number of green candies Ramesh has\r\n",
        "\r\n",
        "\r\n",
        "Output Format: \r\n",
        "\r\n",
        "Print maximum number of candies that can be arranges in each row.\r\n",
        "\r\n",
        "Example: \r\n",
        "\r\n",
        "Input: \r\n",
        "\r\n",
        "24\r\n",
        "\r\n",
        "18\r\n",
        "\r\n",
        "Output: \r\n",
        "\r\n",
        "6"
      ]
    },
    {
      "cell_type": "code",
      "metadata": {
        "colab": {
          "base_uri": "https://localhost:8080/"
        },
        "id": "OkfiZgfi0dQq",
        "outputId": "b219d741-ebf6-440b-abb9-8fbc6e036649"
      },
      "source": [
        "def gcd(m,n):\r\n",
        "  if m%n==0:\r\n",
        "    return(n)\r\n",
        "  else:\r\n",
        "    return(gcd(n,m%n))\r\n",
        "m=int(input())\r\n",
        "n=int(input())\r\n",
        "print(gcd(m,n),end=\"\")"
      ],
      "execution_count": 2,
      "outputs": [
        {
          "output_type": "stream",
          "text": [
            "38\n",
            "36\n",
            "2"
          ],
          "name": "stdout"
        }
      ]
    },
    {
      "cell_type": "markdown",
      "metadata": {
        "id": "KUz9ylxf07he"
      },
      "source": [
        "Programming Assignment 2:\r\n",
        "\r\n",
        "PROBLEM STATEMENT:\r\n",
        "\r\n",
        "Mr. Roxy has arranged a party at his house on the New Year’s Eve. He has invited all his friends - both men and women (men in more number). Your task is to generate the number of ways in which the invitees stand in a line so that no two women stand next to each other. \r\n",
        "\r\n",
        "Note that the number of men is more than the number of women and Roxy doesn’t invite more than 20 guests.\r\n",
        "\r\n",
        "If there are more than 20 guests or an arrangement as per the given constraints is not possible, print ‘invalid’.\r\n",
        "\r\n",
        "\r\n",
        "Input Format: \r\n",
        "\r\n",
        "The first line contains m number of men invited\r\n",
        "\r\n",
        "The second line contains n number of women invited\r\n",
        "\r\n",
        "Note: m +n should not be greater than 20\r\n",
        "\r\n",
        "\r\n",
        "Output Format: \r\n",
        "\r\n",
        "Print the number of ways to line up the invitees\r\n",
        "\r\n",
        "Example: \r\n",
        "\r\n",
        "Input: \r\n",
        "\r\n",
        "8\r\n",
        "\r\n",
        "5\r\n",
        "\r\n",
        "Output: \r\n",
        "\r\n",
        "609638400 \r\n",
        "\r\n"
      ]
    },
    {
      "cell_type": "code",
      "metadata": {
        "colab": {
          "base_uri": "https://localhost:8080/"
        },
        "id": "FmVIcH4U1MAC",
        "outputId": "9d364cec-dffd-4724-b62b-cc2b79f52cf8"
      },
      "source": [
        "import math\r\n",
        "m=int(input())\r\n",
        "n=int(input())\r\n",
        "if m+n>20 or m<=n:\r\n",
        "  print(\"invalid\",end=\"\")\r\n",
        "else:\r\n",
        "  a=math.factorial(m)*(math.factorial(m+1)//(math.factorial(m+1-n)))\r\n",
        "print(a,end=\"\")  \r\n"
      ],
      "execution_count": 3,
      "outputs": [
        {
          "output_type": "stream",
          "text": [
            "4\n",
            "3\n",
            "1440"
          ],
          "name": "stdout"
        }
      ]
    }
  ]
}