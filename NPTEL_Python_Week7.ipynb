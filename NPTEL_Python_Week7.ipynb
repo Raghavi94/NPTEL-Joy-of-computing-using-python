{
  "nbformat": 4,
  "nbformat_minor": 0,
  "metadata": {
    "colab": {
      "name": "NPTEL_Python_Week7.ipynb",
      "provenance": [],
      "collapsed_sections": [],
      "authorship_tag": "ABX9TyN7pXhnm09t8P0w5WASDHL3",
      "include_colab_link": true
    },
    "kernelspec": {
      "name": "python3",
      "display_name": "Python 3"
    }
  },
  "cells": [
    {
      "cell_type": "markdown",
      "metadata": {
        "id": "view-in-github",
        "colab_type": "text"
      },
      "source": [
        "<a href=\"https://colab.research.google.com/github/Raghavi94/NPTEL-Joy-of-computing-using-python/blob/main/NPTEL_Python_Week7.ipynb\" target=\"_parent\"><img src=\"https://colab.research.google.com/assets/colab-badge.svg\" alt=\"Open In Colab\"/></a>"
      ]
    },
    {
      "cell_type": "markdown",
      "metadata": {
        "id": "H3HXdPj1Iu-p"
      },
      "source": [
        "**Programming Assignment 1:**\r\n",
        "\r\n",
        "List Prefix\r\n",
        "Given two lists, write a program to check if one list is a prefix of the other.\r\n",
        "\r\n",
        "Input Format:\r\n",
        "\r\n",
        "The first line contains space separated integers\r\n",
        "The second line contains space separated integers\r\n",
        "\r\n",
        "Output Format:\r\n",
        "\r\n",
        "Print Yes or No\r\n",
        "\r\n",
        "Example:\r\n",
        "\r\n",
        "Input:\r\n",
        "1 2\r\n",
        "\r\n",
        "1 2 3 2 1\r\n",
        "\r\n",
        "Output\r\n",
        "Yes\r\n",
        "\r\n",
        "Input:\r\n",
        "\r\n",
        "1 2\r\n",
        "\r\n",
        "1 3 2 1\r\n",
        "Output:\r\n",
        "\r\n",
        "No\r\n",
        "\r\n",
        "Explanation:\r\n",
        "\r\n",
        " In the first case, first list is a prefix of the second list. In the second case first list is not a prefix of the second\r\n"
      ]
    },
    {
      "cell_type": "code",
      "metadata": {
        "colab": {
          "base_uri": "https://localhost:8080/"
        },
        "id": "iw7L4kf-JHNO",
        "outputId": "f02e980f-80ba-4660-e1bd-eb52217b92b6"
      },
      "source": [
        "l1=input().split()\r\n",
        "l2=input().split()\r\n",
        "a=list(l1)\r\n",
        "b=list(l2)\r\n",
        "if(a[0]==b[0]):\r\n",
        "  print(\"Yes\")\r\n",
        "else:\r\n",
        "  print(\"No\")\r\n"
      ],
      "execution_count": null,
      "outputs": [
        {
          "output_type": "stream",
          "text": [
            "2 3\n",
            "1 2 3\n",
            "No\n"
          ],
          "name": "stdout"
        }
      ]
    },
    {
      "cell_type": "markdown",
      "metadata": {
        "id": "vIs9gIB50YHq"
      },
      "source": [
        "**Programming Assignment 2:**\r\n",
        "\r\n",
        "Snakes and Ladders-1:\r\n",
        "\r\n",
        "Given a configuration of a Snakes and Ladders board, determine the number of snakes and ladders.\r\n",
        "\r\n",
        "Input Format:\r\n",
        "\r\n",
        "First line of the input contains the board configuration in the form of mapping of snakes and ladders\r\n",
        "\r\n",
        "Output Format:\r\n",
        "\r\n",
        "Print two space separated integers indicating the number of snakes and ladders respectively.\r\n",
        "\r\n",
        "Example:\r\n",
        "\r\n",
        "Input:\r\n",
        "\r\n",
        "6: 14,11: 28,17: 74,22: 7,38: 59,49: 12,57: 76,61: 54,81: 98,88: 4\r\n",
        "\r\n",
        "Output:\r\n",
        "\r\n",
        "4 6\r\n",
        "\r\n",
        "Explanation:\r\n",
        "\r\n",
        "In the given configuration, 6:14 indicates a ladder and 22:7 indicates a snake. there are 4 snakes and 6 ladders.\r\n"
      ]
    },
    {
      "cell_type": "code",
      "metadata": {
        "colab": {
          "base_uri": "https://localhost:8080/"
        },
        "id": "6TqKEgmS0nc8",
        "outputId": "cf108f88-f65d-439e-a1a0-907cb8fca109"
      },
      "source": [
        "n=input()\r\n",
        "s=n.split(',')\r\n",
        "count1=0\r\n",
        "count2=0\r\n",
        "for i in s:\r\n",
        "  a=i.split(': ')\r\n",
        "  if(int(a[0])>int(a[1])):\r\n",
        "    count1+=1\r\n",
        "  if(int(a[1])>int(a[0])):\r\n",
        "    count2+=1\r\n",
        "print(count1,end='')\r\n",
        "print(\" \",end=\"\")\r\n",
        "print(count2,end=\"\")"
      ],
      "execution_count": 3,
      "outputs": [
        {
          "output_type": "stream",
          "text": [
            "15: 72\n",
            "0 1"
          ],
          "name": "stdout"
        }
      ]
    },
    {
      "cell_type": "markdown",
      "metadata": {
        "id": "l4HYd1Cv6oAn"
      },
      "source": [
        "**Programming Assignment 3:**\r\n",
        "\r\n",
        "Snakes and Ladders-2:\r\n",
        "\r\n",
        "Given a configuration of a Snakes and Ladders board and a series of numbers obtained when the die is rolled, determine if the sequence of the die rolls lead to a win.\r\n",
        "\r\n",
        "Input Format:\r\n",
        "\r\n",
        "First line of the input contains the board configuration in the form of mapping of snakes and ladders\r\n",
        "Second line of the input contains comma separated integers indicating the values obtained on rolling a die.\r\n",
        "\r\n",
        "Output Format:\r\n",
        "\r\n",
        "Print Yes if the sequence of roll die leads to a winning combination, No otherwise.\r\n",
        "\r\n",
        "Example:Input:\r\n",
        "\r\n",
        "6:  14, 11:  28, 17:  74, 22:  7, 38:  59, 49:  12, 57:  76, 61:  54, 81:  98, 88:  4\r\n",
        "6, 3, 4, 3, 2\r\n",
        "\r\n",
        "Output:Yes\r\n",
        "\r\n",
        "Explanation:\r\n",
        "\r\n",
        "As per the given configuration, the above set of moves indicate that the winning number 100 is reached.  Hence this is a winning combination.  (It is a winning combination if the set of die rolls lead to a number equal to100 or exceeds 100).\r\n"
      ]
    },
    {
      "cell_type": "code",
      "metadata": {
        "id": "uHynZ61-78Cr"
      },
      "source": [
        "n=input()\r\n",
        "m=input()\r\n",
        "t=m.split(',')\r\n",
        "s=n.split(',')\r\n",
        "count=0\r\n",
        "x=0\r\n",
        "for a in range(len(t)):\r\n",
        "  count=count+int(t[x])\r\n",
        "  x=x+1\r\n",
        "  for i in s:\r\n",
        "    a=i.split(': ')\r\n",
        "    if(count==int(a[0])):\r\n",
        "      count=int(a[1])\r\n",
        "if(count>=100):\r\n",
        "  print('Yes',end='')\r\n",
        "else:\r\n",
        "  print('No',end='')"
      ],
      "execution_count": null,
      "outputs": []
    }
  ]
}