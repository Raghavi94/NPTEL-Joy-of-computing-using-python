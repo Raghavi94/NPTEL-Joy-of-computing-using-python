{
  "nbformat": 4,
  "nbformat_minor": 0,
  "metadata": {
    "colab": {
      "name": "NPTEL_Python_Week 6.ipynb",
      "provenance": [],
      "collapsed_sections": [],
      "authorship_tag": "ABX9TyNWdjmjO6eS/TyoESSgaeQB",
      "include_colab_link": true
    },
    "kernelspec": {
      "name": "python3",
      "display_name": "Python 3"
    }
  },
  "cells": [
    {
      "cell_type": "markdown",
      "metadata": {
        "id": "view-in-github",
        "colab_type": "text"
      },
      "source": [
        "<a href=\"https://colab.research.google.com/github/Raghavi94/NPTEL-Joy-of-computing-using-python/blob/main/NPTEL_Python_Week_6.ipynb\" target=\"_parent\"><img src=\"https://colab.research.google.com/assets/colab-badge.svg\" alt=\"Open In Colab\"/></a>"
      ]
    },
    {
      "cell_type": "markdown",
      "metadata": {
        "id": "9uy7ydb8E9R9"
      },
      "source": [
        "**Programming Assignment 1:**\r\n",
        "\r\n",
        "Number Triangle-2\r\n",
        "Given an integer input 'n', print a palindromic number triangle of n lines as shown in the example.\r\n",
        "\r\n",
        "Input Format\r\n",
        "\r\n",
        "The input contains a number n (n < 10)\r\n",
        "\r\n",
        "Output Format\r\n",
        "\r\n",
        "Print n lines corresponding to the number triangle \r\n",
        "\r\n",
        "Example:\r\n",
        "\r\n",
        "Input:\r\n",
        "\r\n",
        "5\r\n",
        "\r\n",
        "Output:\r\n",
        "\r\n",
        "1\r\n",
        "121\r\n",
        "12321\r\n",
        "1234321\r\n",
        "123454321\r\n",
        "\r\n",
        "Explanation:  n th line of the triangle contains a palindromic number of length 2n-1\r\n"
      ]
    },
    {
      "cell_type": "code",
      "metadata": {
        "colab": {
          "base_uri": "https://localhost:8080/"
        },
        "id": "OR4RGV-kFO8T",
        "outputId": "1fad6db4-8ac8-461e-c999-e420b65bd29a"
      },
      "source": [
        "n=int(input())\r\n",
        "for i in range(1,n+1):\r\n",
        "  for j in range(1,i+1):\r\n",
        "    print(j,end=\"\")\r\n",
        "  for j in range(i-1,0,-1):\r\n",
        "    print(j,end=\"\")\r\n",
        "  if(i==n):\r\n",
        "    continue\r\n",
        "  else:\r\n",
        "    print()"
      ],
      "execution_count": 1,
      "outputs": [
        {
          "output_type": "stream",
          "text": [
            "5\n",
            "1\n",
            "121\n",
            "12321\n",
            "1234321\n",
            "123454321"
          ],
          "name": "stdout"
        }
      ]
    },
    {
      "cell_type": "markdown",
      "metadata": {
        "id": "nrgepOtFIR5e"
      },
      "source": [
        "**Programming Assignment 2:**\r\n",
        "\r\n",
        "Anagrams\r\n",
        "Given two strings as input, determine if they are anagrams are not. (Ignore the spaces, case and any punctuation or special characters)\r\n",
        "Note: Anagrams are the strings which are made up of the same set of letters. For example : Mary and Army are anagrams.\r\n",
        "\r\n",
        "Input Format\r\n",
        "\r\n",
        "First line of the input contains the first string\r\n",
        "Second line of the input contains the second string\r\n",
        "\r\n",
        "Output Format:\r\n",
        "\r\n",
        "Print Yes if the given strings are anagrams, No otherwise.\r\n",
        "\r\n",
        "Example:\r\n",
        "Input:\r\n",
        "Tom Marvolo Riddle\r\n",
        "I am Lord Voldemort!!!\r\n",
        "\r\n",
        "Output:\r\n",
        "Yes\r\n",
        "\r\n",
        "Explanation:\r\n",
        "After Ignoring the punctuation and cases, the strings are made up of same set of characters.\r\n"
      ]
    },
    {
      "cell_type": "code",
      "metadata": {
        "colab": {
          "base_uri": "https://localhost:8080/"
        },
        "id": "XKKWwv_zIYiC",
        "outputId": "499d41c7-dc1b-4cfd-ded9-a0dbf0259c55"
      },
      "source": [
        "count=0\r\n",
        "s1=input()\r\n",
        "s2=input()\r\n",
        "s1=s1.lower()\r\n",
        "s2=s2.lower()\r\n",
        "for i in s1:\r\n",
        "  if i.isalpha() and i in s2:\r\n",
        "    continue\r\n",
        "  elif i.isalpha() and i not in s2:\r\n",
        "    count=count+1\r\n",
        "  else:\r\n",
        "    continue\r\n",
        "if(count>0):\r\n",
        "  print(\"No\",end=\"\")\r\n",
        "else:\r\n",
        "  print(\"Yes\",end=\"\")"
      ],
      "execution_count": 2,
      "outputs": [
        {
          "output_type": "stream",
          "text": [
            "elbow\n",
            "below\n",
            "Yes"
          ],
          "name": "stdout"
        }
      ]
    },
    {
      "cell_type": "markdown",
      "metadata": {
        "id": "xi-XRVmcIu2G"
      },
      "source": [
        "**Programming Assignment 3:**\r\n",
        "\r\n",
        "Break the Secret\r\n",
        "\r\n",
        "You are hired by a secret service agency. Your job is to decode messages. You figure out the algorithm used to encrypt messages and it turns out to be as follows:\r\n",
        "The message will consist of only uppercase alphabets. The positional values are assigned to the characters as A=0, B=1, ..., Y=24 and Z=25. In the original message, a character at position i is replaced by a character using the shift formula (i+3)%26.\r\n",
        "For example A will be replaced by D, B by E an so on. After replacement, the string is reversed and sent as a message.\r\n",
        "You are required to decode this message through your code.(Assuming No Space in the message)\r\n",
        "\r\n",
        "Input Format\r\n",
        "\r\n",
        "A single line of the input contains the encrypted message\r\n",
        "\r\n",
        "Output Format\r\n",
        "\r\n",
        "Print a string containing the original message after decoding\r\n",
        "\r\n",
        "Example:\r\n",
        "\r\n",
        "Input\r\n",
        "\r\n",
        "HBEGRRJ\r\n",
        "\r\n",
        "Output:\r\n",
        "\r\n",
        "GOODBYE\r\n"
      ]
    },
    {
      "cell_type": "code",
      "metadata": {
        "colab": {
          "base_uri": "https://localhost:8080/"
        },
        "id": "-Ov8Gcl3I0DT",
        "outputId": "1d8d510e-b8e2-4d22-8414-d931edb248d8"
      },
      "source": [
        "s=input()\r\n",
        "alphas={}\r\n",
        "ans=[]\r\n",
        "ans1=[]\r\n",
        "count=65\r\n",
        "for i in range(0,26):\r\n",
        "  alphas[i]=chr(count)\r\n",
        "  count=count+1\r\n",
        "key_list=list(alphas.keys())\r\n",
        "val_list=list(alphas.values())\r\n",
        "for j in s:\r\n",
        "  position=val_list.index(j)\r\n",
        "  k=key_list[position]\r\n",
        "  ans.append((k-3)%26)\r\n",
        "for x in ans:\r\n",
        "  alphabet=key_list.index(x)\r\n",
        "  k=val_list[alphabet]\r\n",
        "  ans1.append(k)\r\n",
        "ans1.reverse()\r\n",
        "print(''.join([str(ans1[i]) for i in range(0,len(ans1))]),end=\"\")"
      ],
      "execution_count": 4,
      "outputs": [
        {
          "output_type": "stream",
          "text": [
            "HBEGRRJ\n",
            "GOODBYE"
          ],
          "name": "stdout"
        }
      ]
    }
  ]
}