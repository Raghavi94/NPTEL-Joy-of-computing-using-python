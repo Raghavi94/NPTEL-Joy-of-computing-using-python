{
  "nbformat": 4,
  "nbformat_minor": 0,
  "metadata": {
    "colab": {
      "name": "NPTEL_Python_Week8.ipynb",
      "provenance": [],
      "collapsed_sections": [],
      "authorship_tag": "ABX9TyNAFm3Un8Z8cKf7ImPB+pBk",
      "include_colab_link": true
    },
    "kernelspec": {
      "name": "python3",
      "display_name": "Python 3"
    }
  },
  "cells": [
    {
      "cell_type": "markdown",
      "metadata": {
        "id": "view-in-github",
        "colab_type": "text"
      },
      "source": [
        "<a href=\"https://colab.research.google.com/github/Raghavi94/NPTEL-Joy-of-computing-using-python/blob/main/NPTEL_Python_Week8.ipynb\" target=\"_parent\"><img src=\"https://colab.research.google.com/assets/colab-badge.svg\" alt=\"Open In Colab\"/></a>"
      ]
    },
    {
      "cell_type": "markdown",
      "metadata": {
        "id": "MVUFSFRb5s2m"
      },
      "source": [
        "**Programming Assignment 2:**\r\n",
        "\r\n",
        "Symmetric Matrix\r\n",
        "\r\n",
        "Given a N X N square matrix, determine if it is a Symmetric Matrix.\r\n",
        "\r\n",
        "Input Format:\r\n",
        "\r\n",
        "The first line of the input an integer N which represents the number of rows and the number of columns.\r\n",
        "Next N lines represent the elements of the matrix.\r\n",
        "\r\n",
        "Output Format:\r\n",
        "\r\n",
        " Print Yes or No\r\n",
        "\r\n",
        "Example:\r\n",
        "\r\n",
        "Input:\r\n",
        "\r\n",
        "3\r\n",
        "1 -2 3\r\n",
        "-2 3 1\r\n",
        "3 1 2\r\n",
        "Output:\r\n",
        "\r\n",
        "Yes\r\n"
      ]
    },
    {
      "cell_type": "code",
      "metadata": {
        "colab": {
          "base_uri": "https://localhost:8080/"
        },
        "id": "5tE6S1qd59iI",
        "outputId": "26579403-ec5c-4df1-f032-56ad31804598"
      },
      "source": [
        "#checking if the matrix is transpose\r\n",
        "N=int(input())\r\n",
        "l=[]\r\n",
        "t=0\r\n",
        "for i in range(N):\r\n",
        "  l.append(input().split())\r\n",
        "for r in range(N):\r\n",
        "  for c in range(N):\r\n",
        "    if(l[r][c]!=l[c][r]):\r\n",
        "      t=1\r\n",
        "      break\r\n",
        "if(t==0):\r\n",
        "  print(\"Yes\",end=\" \")\r\n",
        "else:\r\n",
        "  print(\"No\",end=\" \")\r\n"
      ],
      "execution_count": 1,
      "outputs": [
        {
          "output_type": "stream",
          "text": [
            "3\n",
            "1 2 3\n",
            "2 1 3\n",
            "3 2 1\n",
            "No "
          ],
          "name": "stdout"
        }
      ]
    },
    {
      "cell_type": "markdown",
      "metadata": {
        "id": "4yW8MBs8_Ffp"
      },
      "source": [
        "**Programming Assignment 1:**\r\n",
        "\r\n",
        "Zero-One Matrix\r\n",
        "\r\n",
        "Given a matrix with M rows and N columns, you are required to check if the matrix is a Zero-One Matrix. A Zero-One or a Binary matrix is a matrix in which all the elements are either 0 or 1.\r\n",
        "\r\n",
        "Input Format\r\n",
        "The first line of the input contains two space separated integers M and N which represents the number of rows and the number of columns respectively.\r\n",
        "Next M lines represent the elements in M rows with each line containing N space separated integers.\r\n",
        "\r\n",
        "Output Format\r\n",
        "Print Yes or No\r\n",
        "\r\n",
        "Example:\r\n",
        "\r\n",
        "Input:\r\n",
        "\r\n",
        "3 3\r\n",
        "\r\n",
        "1 0 0\r\n",
        "\r\n",
        "0 1 0\r\n",
        "\r\n",
        "0 0 1\r\n",
        "\r\n",
        "Output:\r\n",
        "\r\n",
        "Yes\r\n",
        "\r\n",
        "Input:\r\n",
        "\r\n",
        "2 2\r\n",
        "\r\n",
        "1 2\r\n",
        "\r\n",
        "0 1\r\n",
        "\r\n",
        "Output:\r\n",
        "\r\n",
        "No\r\n",
        "\r\n",
        "Explanation:\r\n",
        "\r\n",
        "In the first case, all the elements of the matrix are 0 and 1. In the second case element at the first row and second column is 2\r\n"
      ]
    },
    {
      "cell_type": "code",
      "metadata": {
        "colab": {
          "base_uri": "https://localhost:8080/"
        },
        "id": "vbABuCYM_ZUj",
        "outputId": "cc6ae0a7-ab88-4ed5-a727-24c1737c1a6d"
      },
      "source": [
        "M,N=input().split()\r\n",
        "M,N=int(M),int(N)\r\n",
        "matr=[]\r\n",
        "check=0\r\n",
        "for i in range(M):\r\n",
        "  matr.append(input().split())\r\n",
        "for x in matr:\r\n",
        "  for y in x:\r\n",
        "    if y==\"0\" or y==\"1\":\r\n",
        "      check=check+1\r\n",
        "if check==M*N:\r\n",
        "  print(\"Yes\",end=\" \")\r\n",
        "else:\r\n",
        "  print(\"No\",end=\" \")\r\n",
        " "
      ],
      "execution_count": 3,
      "outputs": [
        {
          "output_type": "stream",
          "text": [
            "2 2\n",
            "1 2\n",
            "4 6\n",
            "No "
          ],
          "name": "stdout"
        }
      ]
    },
    {
      "cell_type": "markdown",
      "metadata": {
        "id": "XnZx8Ur-_uT2"
      },
      "source": [
        "**Programming Assignment 3:**\r\n",
        "\r\n",
        "Print Matrix:\r\n",
        "\r\n",
        "Given an integer N, print a N X N square matrix, consisting of numbers from 1 to N^2, in the row-wise order\r\n",
        "\r\n",
        "Input Format:\r\n",
        "\r\n",
        "The first line of the input an integer N\r\n",
        "\r\n",
        "Output Format:\r\n",
        "\r\n",
        "Print N lines having numbers from 1 to N^2\r\n",
        "\r\n",
        "Example:\r\n",
        "\r\n",
        "Input:\r\n",
        "\r\n",
        "3\r\n",
        "\r\n",
        "Output:\r\n",
        "\r\n",
        "1 2 3\r\n",
        "\r\n",
        "4 5 6\r\n",
        "\r\n",
        "7 8 9\r\n"
      ]
    },
    {
      "cell_type": "code",
      "metadata": {
        "colab": {
          "base_uri": "https://localhost:8080/"
        },
        "id": "GnaXYXkYbeol",
        "outputId": "60e2e8d6-cd70-4024-cac4-62fa29834ae3"
      },
      "source": [
        "n,check,mat=int(input()),0,[]\r\n",
        "for p in range(n):\r\n",
        "  m=[]\r\n",
        "  for q in range(n):\r\n",
        "    check=check+1\r\n",
        "    m.append(check)\r\n",
        "  mat.append(m)\r\n",
        "for r in mat[:-1]:\r\n",
        "  print(*r)\r\n",
        "print(*mat[-1],end=\"\")  "
      ],
      "execution_count": 1,
      "outputs": [
        {
          "output_type": "stream",
          "text": [
            "4\n",
            "1 2 3 4\n",
            "5 6 7 8\n",
            "9 10 11 12\n",
            "13 14 15 16"
          ],
          "name": "stdout"
        }
      ]
    }
  ]
}