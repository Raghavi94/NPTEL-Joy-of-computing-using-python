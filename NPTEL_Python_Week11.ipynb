{
  "nbformat": 4,
  "nbformat_minor": 0,
  "metadata": {
    "colab": {
      "name": "NPTEL_Python_Week11.ipynb",
      "provenance": [],
      "collapsed_sections": [],
      "authorship_tag": "ABX9TyOX5E5G+8Yf3eZXrP2UUyrb",
      "include_colab_link": true
    },
    "kernelspec": {
      "name": "python3",
      "display_name": "Python 3"
    },
    "language_info": {
      "name": "python"
    }
  },
  "cells": [
    {
      "cell_type": "markdown",
      "metadata": {
        "id": "view-in-github",
        "colab_type": "text"
      },
      "source": [
        "<a href=\"https://colab.research.google.com/github/Raghavi94/NPTEL-Joy-of-computing-using-python/blob/main/NPTEL_Python_Week11.ipynb\" target=\"_parent\"><img src=\"https://colab.research.google.com/assets/colab-badge.svg\" alt=\"Open In Colab\"/></a>"
      ]
    },
    {
      "cell_type": "markdown",
      "metadata": {
        "id": "3CfyjH_uLjKQ"
      },
      "source": [
        "**Assignment 1:**\n",
        "\n",
        "Let ‘n’ be a positive even integer. Print the total number of ways to express ‘n’ as a sum of only even positive integers. \n",
        "\n",
        "Input format :\n",
        "\n",
        "The positive even integer\n",
        "\n",
        "Output format :\n",
        "\n",
        "the total number of ways to express ‘n’ as a sum of only even positive integers else invalid\n",
        "\n",
        "Example :\n",
        "\n",
        "input:\n",
        "\n",
        "6\n",
        " \n",
        "output:\n",
        "\n",
        "4\n",
        "\n",
        "Explanation: There only 4 ways to express ‘6’ as sum of even integers:\n",
        "First way:  6\n",
        "Second way: 2 + 4\n",
        "Third way:  4 + 2\n",
        "Fourth way: 2 + 2 + 2 + 2\n"
      ]
    },
    {
      "cell_type": "code",
      "metadata": {
        "colab": {
          "base_uri": "https://localhost:8080/"
        },
        "id": "wruLV6zVLxBi",
        "outputId": "d5522f28-8bf3-48ae-bacf-1040bf3a8e1f"
      },
      "source": [
        "MOD = 1e9 + 7\n",
        "def power(a, b, p) :\n",
        "\tres = 1\t\n",
        "\ta = a % p \n",
        "\twhile (b > 0) :\n",
        "\t\tb=int(b)\n",
        "\t\tif (b& 1) :\n",
        "\t\t\tres = (1 * res * a) % p\n",
        "\t\tb = b >> 1 # b = b/2\n",
        "\t\ta = (1 * a * a) % p\n",
        "\treturn(res)\n",
        "def countEvenWays(n) :\n",
        "\treturn power(2, n/2 - 1, MOD)\n",
        "n=int(input())\n",
        "if n%2==0:\n",
        "    print (int(countEvenWays(n)),end=\"\")\n",
        "else:\n",
        "    print(\"invalid\",end=\"\")\n"
      ],
      "execution_count": 2,
      "outputs": [
        {
          "output_type": "stream",
          "text": [
            "3\n",
            "invalid"
          ],
          "name": "stdout"
        }
      ]
    },
    {
      "cell_type": "markdown",
      "metadata": {
        "id": "Qpn3D4tSNFml"
      },
      "source": [
        "**Assignment 2:**\n",
        "\n",
        "Give a string, remove all the punctuations in it and print only the words in it. \n",
        "\n",
        "\n",
        "Input format : \n",
        "\n",
        "the input string with punctuations\n",
        "\n",
        "Output format : \n",
        "\n",
        "the output string without punctuations\n",
        "\n",
        "\n",
        "Example \n",
        "\n",
        "input\n",
        "\n",
        "“Wow!!! It’s a beautiful morning”\n",
        "\n",
        " \n",
        "\n",
        "output\n",
        "\n",
        "Wow Its a beautiful morning\n",
        "\n"
      ]
    },
    {
      "cell_type": "code",
      "metadata": {
        "colab": {
          "base_uri": "https://localhost:8080/"
        },
        "id": "jkk1JtnkNMQZ",
        "outputId": "dc7c61ea-f48a-4caf-8909-1599a87fa302"
      },
      "source": [
        "string=input()                          \n",
        "punctuations = '''!()-[]{};:'\"\\,<>./?@#$%^&*_~'''                        \n",
        "for x in string.lower():\n",
        "    if x in punctuations:\n",
        "        string = string.replace(x, \"\")\n",
        "print(string,end=\"\")                    \n"
      ],
      "execution_count": 3,
      "outputs": [
        {
          "output_type": "stream",
          "text": [
            "Hey!How are you?\n",
            "HeyHow are you"
          ],
          "name": "stdout"
        }
      ]
    },
    {
      "cell_type": "markdown",
      "metadata": {
        "id": "2hH9RmtgNUYk"
      },
      "source": [
        "**Assignment 3:**\n",
        "\n",
        "print the number of binary sequences of length ‘n’ that have no consecutive 0’s\n",
        "\n",
        "\n",
        "Input format : \n",
        "\n",
        "A number 'n'\n",
        "\n",
        "Output format :\n",
        " \n",
        "number of binary sequences of length 'n' with no consecutive 0's else invalid\n",
        "\n",
        "\n",
        "\n",
        "\n",
        "Example \n",
        "\n",
        "input\n",
        "\n",
        "3\n",
        "\n",
        "output\n",
        "\n",
        "5\n",
        "\n",
        "\n",
        "Explanation: \n",
        "\n",
        "When n = 3, number of binary digits is 3.\n",
        "\n",
        "all possible combinations of 3 binary digits are\n",
        "\n",
        "0 0 0\n",
        "\n",
        "0 0 1\n",
        "\n",
        "0 1 0\n",
        "\n",
        "0 1 1\n",
        "\n",
        "1 0 0\n",
        "\n",
        "1 0 1\n",
        "\n",
        "1 1 0\n",
        "\n",
        "1 1 1\n",
        "\n",
        "out of these eight possibilities, 5 have binary sequences and have no consecutive 0’s. Hence the number of binary sequences of length 3 is 5.\n",
        "\n"
      ]
    },
    {
      "cell_type": "code",
      "metadata": {
        "colab": {
          "base_uri": "https://localhost:8080/"
        },
        "id": "ODYXYBHUPSSq",
        "outputId": "9cf0ca3c-01b4-4afa-bc6a-4b385acdda44"
      },
      "source": [
        "def countStrings(n):\n",
        "    A=[0 for a in range(n)]\n",
        "    B=[0 for a in range(n)]\n",
        "    A[0] = B[0] = 1\n",
        "    for a in range(1,n):\n",
        "        A[a] = A[a-1] + B[a-1]\n",
        "        B[a] = A[a-1]\n",
        "    return(A[n-1] + B[n-1])\n",
        "n=int(input())\n",
        "if n>0:\n",
        "  print(countStrings(n),end=\"\")\n",
        "else:\n",
        "  print(\"invalid\",end=\"\")\n",
        "  "
      ],
      "execution_count": 4,
      "outputs": [
        {
          "output_type": "stream",
          "text": [
            "4\n",
            "8"
          ],
          "name": "stdout"
        }
      ]
    }
  ]
}