{
  "nbformat": 4,
  "nbformat_minor": 0,
  "metadata": {
    "colab": {
      "name": "NPTEL_Python_Week9.ipynb",
      "provenance": [],
      "collapsed_sections": [],
      "authorship_tag": "ABX9TyPSWicW8U9nqoNcFlQfSNn2",
      "include_colab_link": true
    },
    "kernelspec": {
      "name": "python3",
      "display_name": "Python 3"
    },
    "language_info": {
      "name": "python"
    }
  },
  "cells": [
    {
      "cell_type": "markdown",
      "metadata": {
        "id": "view-in-github",
        "colab_type": "text"
      },
      "source": [
        "<a href=\"https://colab.research.google.com/github/Raghavi94/NPTEL-Joy-of-computing-using-python/blob/main/NPTEL_Python_Week9.ipynb\" target=\"_parent\"><img src=\"https://colab.research.google.com/assets/colab-badge.svg\" alt=\"Open In Colab\"/></a>"
      ]
    },
    {
      "cell_type": "markdown",
      "metadata": {
        "id": "NIqPcr4Tvsz2"
      },
      "source": [
        "**Programming Assignment 1:**\n",
        "\n",
        "Repetition\n",
        "\n",
        "Given a list of integers and a value k, you are required to print an integer which appears in the list exactly k times. It is guaranteed that only one integer repeats k times.\n",
        "\n",
        "Input Format\n",
        "\n",
        "The first line of the input contains space separated integers.\n",
        "\n",
        "Second line of the input contains a value n.\n",
        "\n",
        "Output Format\n",
        "\n",
        "Print an integer that appears exactly n times.\n",
        "\n",
        "Example:\n",
        "\n",
        "Input:\n",
        "\n",
        "1 2 3 4 3 2 1 2 5 6\n",
        "\n",
        "3\n",
        "\n",
        "Output:\n",
        "\n",
        "2\n",
        "\n",
        "Explanation\n",
        "\n",
        "In the given list, 2 appears exactly thrice.\n"
      ]
    },
    {
      "cell_type": "code",
      "metadata": {
        "colab": {
          "base_uri": "https://localhost:8080/"
        },
        "id": "1lCLZt4jwCrS",
        "outputId": "39b7ee01-f79a-4d8b-89ec-308433c2aeb6"
      },
      "source": [
        "n,k=list(map(int,input().split())),int(input())\n",
        "print([i for i in n if n.count(i)==k][0],end=\"\")"
      ],
      "execution_count": 1,
      "outputs": [
        {
          "output_type": "stream",
          "text": [
            "1 2 3 1 2 4 3\n",
            "1\n",
            "4"
          ],
          "name": "stdout"
        }
      ]
    },
    {
      "cell_type": "markdown",
      "metadata": {
        "id": "Kw0418i-wSmu"
      },
      "source": [
        "**Programming Assignment 2:**\n",
        "Panagrams\n",
        "\n",
        "Given an English sentence, check whether it is a panagram or not. A panagram is a sentence containing all 26 letters in the English alphabet.\n",
        "\n",
        "Input Format\n",
        "\n",
        "A single line of the input contains a stirng s.\n",
        "\n",
        "Output Format\n",
        "\n",
        "Print Yes or No\n",
        "\n",
        "Example:\n",
        "\n",
        "Input:\n",
        "\n",
        "The quick brown fox jumps over a lazy dog\n",
        "\n",
        "Output:\n",
        "\n",
        "Yes\n",
        "Input:\n",
        "\n",
        "The world will be taken over by AI\n",
        "\n",
        "Output:\n",
        "\n",
        "No\n"
      ]
    },
    {
      "cell_type": "code",
      "metadata": {
        "colab": {
          "base_uri": "https://localhost:8080/"
        },
        "id": "EvH6lJn2ytRp",
        "outputId": "a8e41594-47d9-4d85-bac9-33a00371e639"
      },
      "source": [
        "import string\n",
        "s=str(input())\n",
        "s1=list(s.upper())\n",
        "a=list(string.ascii_uppercase)\n",
        "if a==sorted(list(set(sorted(s1)[sorted(s1).index('A'):]))):\n",
        "  print(\"Yes\",end=\"\")\n",
        "else:\n",
        "  print(\"No\",end=\"\")\n"
      ],
      "execution_count": 2,
      "outputs": [
        {
          "output_type": "stream",
          "text": [
            "Computers are revolutionary\n",
            "No"
          ],
          "name": "stdout"
        }
      ]
    },
    {
      "cell_type": "markdown",
      "metadata": {
        "id": "wApvojYoy332"
      },
      "source": [
        "**Programming Assignment 3:**\n",
        "\n",
        "Remove Vowels\n",
        "\n",
        "Given a string s, remove all the vowels in s and reprint the string. The order of other characters in the string should be maintained\\\\\n",
        "\n",
        "Input Format\n",
        "\n",
        "A single line of the input contains a stirng s.\n",
        "\n",
        "Output Format\n",
        "\n",
        "Print the modified string after removing the vowels\n",
        "\n",
        "Example:\n",
        "\n",
        "Input:\n",
        "\n",
        "abcdEfghi\n",
        "\n",
        "Output:\n",
        "\n",
        "bcdfgh"
      ]
    },
    {
      "cell_type": "code",
      "metadata": {
        "colab": {
          "base_uri": "https://localhost:8080/"
        },
        "id": "Iv81YV4u2P2o",
        "outputId": "a3b3541f-bab1-4748-ded1-7eddb78fa3ac"
      },
      "source": [
        "s,a=list(input()),\"\"\n",
        "ans=[y for y in s if y!='A' and y!='E' and y!='I' and y!='O' and y!='U' and y!='a' and y!='e' and y!='i' and y!='o' and y!='u']\n",
        "print(a.join(ans),end=\"\")"
      ],
      "execution_count": 3,
      "outputs": [
        {
          "output_type": "stream",
          "text": [
            "TheworldwillbetakenoverbyAI\n",
            "Thwrldwllbtknvrby"
          ],
          "name": "stdout"
        }
      ]
    }
  ]
}