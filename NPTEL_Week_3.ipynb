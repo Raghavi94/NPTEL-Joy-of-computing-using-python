{
  "nbformat": 4,
  "nbformat_minor": 0,
  "metadata": {
    "colab": {
      "name": "NPTEL Week 3.ipynb",
      "provenance": [],
      "collapsed_sections": [],
      "authorship_tag": "ABX9TyM7Yl5x7VHfRMUBpXZc5gX9",
      "include_colab_link": true
    },
    "kernelspec": {
      "name": "python3",
      "display_name": "Python 3"
    }
  },
  "cells": [
    {
      "cell_type": "markdown",
      "metadata": {
        "id": "view-in-github",
        "colab_type": "text"
      },
      "source": [
        "<a href=\"https://colab.research.google.com/github/Raghavi94/NPTEL-Joy-of-computing-using-python/blob/main/NPTEL_Week_3.ipynb\" target=\"_parent\"><img src=\"https://colab.research.google.com/assets/colab-badge.svg\" alt=\"Open In Colab\"/></a>"
      ]
    },
    {
      "cell_type": "code",
      "metadata": {
        "id": "2XT01YEQCz76"
      },
      "source": [
        ""
      ],
      "execution_count": null,
      "outputs": []
    },
    {
      "cell_type": "markdown",
      "metadata": {
        "id": "zyUUiWnxC0q8"
      },
      "source": [
        "**NPTEL Python Week 3**\r\n",
        "\r\n",
        "Programming Assignment 1:\r\n",
        "\r\n",
        "QUESTION:\r\n",
        "\r\n",
        "Given a list A of numbers (integers), you have to print those numbers which are not ending with 4.\r\n",
        "\r\n",
        "Input Format\r\n",
        "\r\n",
        "The first line contains numbers separated by a space.\r\n",
        "\r\n",
        "Output Format\r\n",
        "\r\n",
        "Print the resultant array elements separated by a space. (no space after the last element)\r\n",
        "\r\n",
        "Example\r\n",
        "\r\n",
        "Input\r\n",
        "\r\n",
        "2 3 5 4 7 12 14 13 24 40 14\r\n",
        "\r\n",
        "Output\r\n",
        "\r\n",
        "2 3 5 7 12 13 40"
      ]
    },
    {
      "cell_type": "code",
      "metadata": {
        "colab": {
          "base_uri": "https://localhost:8080/"
        },
        "id": "dLv-MYEFDKZH",
        "outputId": "a90de57e-2012-45d9-da7e-7bed3e5ab842"
      },
      "source": [
        "#Solution\r\n",
        "\r\n",
        "arr=input().split()\r\n",
        "a=[]\r\n",
        "b=[]\r\n",
        "for i in range(len(arr)):\r\n",
        "  if arr[i].endswith(\"4\"):\r\n",
        "    a.append(arr[i])\r\n",
        "  else:\r\n",
        "    b.append(arr[i])\r\n",
        "    \r\n",
        "    \r\n",
        "listToStr = ' '.join([str(elem) for elem in b])\r\n",
        "print(listToStr)\r\n"
      ],
      "execution_count": null,
      "outputs": [
        {
          "output_type": "stream",
          "text": [
            "2 14 24 14 34 5 10 6 8\n",
            "2 5 10 6 8\n"
          ],
          "name": "stdout"
        }
      ]
    },
    {
      "cell_type": "markdown",
      "metadata": {
        "id": "9FgpmVWZEkGg"
      },
      "source": [
        "Programming Assignment 2:\r\n",
        "\r\n",
        "Question:\r\n",
        "\r\n",
        "Given a list of numbers (integers),\r\n",
        "find the sum of second maximum and second minimum in this list.\r\n",
        "\r\n",
        "Input Format\r\n",
        "\r\n",
        "The first line contains numbers separated by a space.\r\n",
        "\r\n",
        "Output Format\r\n",
        "\r\n",
        "Print the sum of second maximum and second minimum\r\n",
        "\r\n",
        "Example\r\n",
        "\r\n",
        "Input\r\n",
        "\r\n",
        "2 3 5 4 7 6\r\n",
        "\r\n",
        "Output\r\n",
        "\r\n",
        "9\r\n"
      ]
    },
    {
      "cell_type": "code",
      "metadata": {
        "colab": {
          "base_uri": "https://localhost:8080/"
        },
        "id": "ZsiSa0UdEzFm",
        "outputId": "3226ca8d-c0ce-4c41-c982-63c96b055c5d"
      },
      "source": [
        "arr=input().split()\r\n",
        "sorted_list=[]\r\n",
        "for i in arr:\r\n",
        "  if i not in sorted_list:\r\n",
        "    sorted_list.append(i)\r\n",
        "if(len(sorted_list)>1):\r\n",
        "  sorted_list.sort()\r\n",
        "  print((int(sorted_list[1])+int(sorted_list[-2])),end=\" \")\r\n",
        "else:\r\n",
        "  print(int(sorted_list[0])*2,end=\" \")  \r\n",
        "\r\n"
      ],
      "execution_count": 44,
      "outputs": [
        {
          "output_type": "stream",
          "text": [
            "2 6 4 3 8 5 8\n",
            "9\n"
          ],
          "name": "stdout"
        }
      ]
    },
    {
      "cell_type": "code",
      "metadata": {
        "id": "3eS56M5gq662"
      },
      "source": [
        "#second solution:\r\n",
        "number_list=input().split()\r\n",
        "sorted_list=[]\r\n",
        "for g in number_list:\r\n",
        "  if int(g) not in sorted_list:\r\n",
        "    sorted_list.append(int(g))\r\n",
        "if len(sorted_list)>1:\r\n",
        "  ans=sorted(sorted_list)\r\n",
        "  print(ans[1]+ans[-2],end=\" \")\r\n",
        "else:\r\n",
        "  print(sorted_list[0]*2,end=\" \")\r\n"
      ],
      "execution_count": null,
      "outputs": []
    },
    {
      "cell_type": "markdown",
      "metadata": {
        "id": "0dBxAS6DXmW6"
      },
      "source": [
        "Programming Assignment 3:\r\n",
        "\r\n",
        "Given an array A of N integers, you have to write a python code to eliminate the duplicate integers of the array.\r\n",
        "\r\n",
        "Input Format\r\n",
        "\r\n",
        "The first line of the input contains a number N representing the number of elements in array A.\r\n",
        "\r\n",
        "The second line of the input contains N numbers separated by a space. (after the last element, there is no space)\r\n",
        "\r\n",
        "Output Format\r\n",
        "\r\n",
        "Print the resultant array of elements separated by a space. (no space after the last element)\r\n",
        "\r\n",
        "Example\r\n",
        "\r\n",
        "Input\r\n",
        "6\r\n",
        "1 2 4 2 5 4\r\n",
        "\r\n",
        "Output\r\n",
        "1 2 4 5"
      ]
    },
    {
      "cell_type": "code",
      "metadata": {
        "colab": {
          "base_uri": "https://localhost:8080/"
        },
        "id": "l5Ze111-X6VN",
        "outputId": "26a132b5-735c-47b9-92a5-c7ada2c52703"
      },
      "source": [
        "a=input()\r\n",
        "old_list=[]\r\n",
        "new_list=[]\r\n",
        "old_list=a.split(\" \")\r\n",
        "for n in old_list:\r\n",
        "  if n not in new_list:\r\n",
        "    new_list.append(n)\r\n",
        "print(new_list)\r\n",
        "for i in range(0,len(new_list)):\r\n",
        "  print(new_list[i],end=\" \")\r\n",
        "  "
      ],
      "execution_count": 9,
      "outputs": [
        {
          "output_type": "stream",
          "text": [
            "2 1 1 5 6 5 7 \n",
            "['2', '1', '5', '6', '7', '']\n",
            "2 1 5 6 7  "
          ],
          "name": "stdout"
        }
      ]
    }
  ]
}